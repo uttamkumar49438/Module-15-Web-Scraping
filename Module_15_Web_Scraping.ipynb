{
  "nbformat": 4,
  "nbformat_minor": 0,
  "metadata": {
    "colab": {
      "provenance": []
    },
    "kernelspec": {
      "name": "python3",
      "display_name": "Python 3"
    },
    "language_info": {
      "name": "python"
    }
  },
  "cells": [
    {
      "cell_type": "markdown",
      "source": [
        "Q1. What is Web Scraping? Why is it Used? Give three areas where Web Scraping is used to get data."
      ],
      "metadata": {
        "id": "pSoeMT9hNf0C"
      }
    },
    {
      "cell_type": "markdown",
      "source": [
        "Web scraping is the process of extracting data from websites. It involves retrieving and parsing HTML or other markup languages used to structure web pages, then extracting relevant information for analysis, storage, or other purposes\n",
        "\n",
        "Three Areas Where Web Scraping is Used:\n",
        "E-commerce:\n",
        "Finance and Investment:\n",
        "Research and Academic Studies:"
      ],
      "metadata": {
        "id": "QkvJN-koRhzK"
      }
    },
    {
      "cell_type": "markdown",
      "source": [
        "Q2. What are the different methods used for Web Scraping?"
      ],
      "metadata": {
        "id": "0fzdwtrrNkkE"
      }
    },
    {
      "cell_type": "markdown",
      "source": [
        "Several methods can be used for web scraping\n",
        "- Using Python Libraries:,Beautiful Soup:\n",
        "- Using Browser Developer Tools:\n",
        "- APIs:\n",
        "- Regular Expressions:"
      ],
      "metadata": {
        "id": "qcaU4Cr0NlTW"
      }
    },
    {
      "cell_type": "markdown",
      "source": [
        "Q3. What is Beautiful Soup? Why is it used?"
      ],
      "metadata": {
        "id": "mP7VAl4EN6tQ"
      }
    },
    {
      "cell_type": "markdown",
      "source": [
        "Beautiful Soup is a Python library used for web scraping and parsing HTML and XML documents. It provides a convenient interface for extracting data from web pages by navigating the HTML tree structure and searching for specific elements based on tags, attributes, or text content.\n",
        "\n",
        "Key Features and Benefits of Beautiful Soup:\n",
        "\n",
        "-Parsing HTML and XML\n",
        "-Navigating the HTML Tree"
      ],
      "metadata": {
        "id": "FHzSzHQsN-ZM"
      }
    },
    {
      "cell_type": "markdown",
      "source": [
        "Q4. Why is flask used in this Web Scraping project?"
      ],
      "metadata": {
        "id": "gtFQsO75OVVO"
      }
    },
    {
      "cell_type": "markdown",
      "source": [
        "Flask is used in a web scraping project for several reasons:\n",
        "-Building Web Applications:\n",
        "-RESTful APIs:\n",
        "-Scheduled Scraping Tasks"
      ],
      "metadata": {
        "id": "MHMbAbWmOZcJ"
      }
    },
    {
      "cell_type": "markdown",
      "source": [
        "Q5. Write the names of AWS services used in this project. Also, explain the use of each service."
      ],
      "metadata": {
        "id": "xIZOW007Osfr"
      }
    },
    {
      "cell_type": "markdown",
      "source": [
        "-Amazon EC2 (Elastic Compute Cloud):\n",
        "-Amazon S3 (Simple Storage Service):\n",
        "-Amazon RDS (Relational Database Service):"
      ],
      "metadata": {
        "id": "bYfwIT-dOtnN"
      }
    }
  ]
}